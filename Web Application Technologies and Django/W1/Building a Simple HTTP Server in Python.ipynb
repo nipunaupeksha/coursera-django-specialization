{
 "cells": [
  {
   "cell_type": "code",
   "execution_count": 1,
   "metadata": {},
   "outputs": [],
   "source": [
    "from socket import *"
   ]
  },
  {
   "cell_type": "code",
   "execution_count": 6,
   "metadata": {},
   "outputs": [],
   "source": [
    "def createServer():\n",
    "    serverSocket = socket(AF_INET,SOCK_STREAM)\n",
    "    try:\n",
    "        serverSocket.bind(('localhost',9000))\n",
    "        serverSocket.listen(5)\n",
    "        while(1):\n",
    "            (clientSocket,address)=serverSocket.accept()\n",
    "            rd=clientSocket.recv(5000).decode()\n",
    "            pieces=rd.split(\"\\n\")\n",
    "            if(len(pieces)>0):\n",
    "                print(pieces[0])\n",
    "            data='HTTP/1.1 200 OK\\r\\n'\n",
    "            data+='Content-Type: text/html; charset=utf-8\\r\\n'\n",
    "            data+='\\r\\n'\n",
    "            data+='<html><body>Hello world</body></html>\\r\\n\\r\\n'\n",
    "            clientSocket.sendall(data.encode())\n",
    "            clientSocket.shutdown(SHUT_WR)\n",
    "            \n",
    "    except KeyboardInterrupt:\n",
    "        print('\\nShutting down..\\n')\n",
    "    except Exception as exc:\n",
    "        print('Error:\\n')\n",
    "        print(exc)\n",
    "    serverSocket.close()"
   ]
  },
  {
   "cell_type": "code",
   "execution_count": 7,
   "metadata": {},
   "outputs": [
    {
     "name": "stdout",
     "output_type": "stream",
     "text": [
      "Access http://localhost:9000\n",
      "GET / HTTP/1.1\n",
      "GET /favicon.ico HTTP/1.1\n",
      "\n",
      "Shutting down..\n",
      "\n"
     ]
    }
   ],
   "source": [
    "print('Access http://localhost:9000')\n",
    "createServer()    "
   ]
  },
  {
   "cell_type": "code",
   "execution_count": null,
   "metadata": {},
   "outputs": [],
   "source": []
  }
 ],
 "metadata": {
  "kernelspec": {
   "display_name": "Python 3",
   "language": "python",
   "name": "python3"
  },
  "language_info": {
   "codemirror_mode": {
    "name": "ipython",
    "version": 3
   },
   "file_extension": ".py",
   "mimetype": "text/x-python",
   "name": "python",
   "nbconvert_exporter": "python",
   "pygments_lexer": "ipython3",
   "version": "3.8.3"
  }
 },
 "nbformat": 4,
 "nbformat_minor": 4
}
